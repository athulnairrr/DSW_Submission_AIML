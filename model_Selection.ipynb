{
  "nbformat": 4,
  "nbformat_minor": 0,
  "metadata": {
    "colab": {
      "provenance": []
    },
    "kernelspec": {
      "name": "python3",
      "display_name": "Python 3"
    },
    "language_info": {
      "name": "python"
    }
  },
  "cells": [
    {
      "cell_type": "code",
      "execution_count": 5,
      "metadata": {
        "colab": {
          "base_uri": "https://localhost:8080/"
        },
        "id": "OgI5ybxsa6uU",
        "outputId": "56bb9414-8a88-496d-94bf-80895e238750"
      },
      "outputs": [
        {
          "output_type": "stream",
          "name": "stdout",
          "text": [
            "Best Parameters: {'classifier': RandomForestClassifier(), 'classifier__n_estimators': 100}\n",
            "Best Score: 0.80203125\n",
            "Accuracy: 0.815\n",
            "Precision: 0.8375912408759124\n",
            "Recall: 0.8861003861003861\n",
            "F1 Score: 0.8611632270168855\n",
            "***************************************************\n",
            "Best Parameters: {'classifier': MLPClassifier(hidden_layer_sizes=(50, 50)), 'classifier__activation': 'relu', 'classifier__hidden_layer_sizes': (50, 50), 'classifier__solver': 'adam'}\n",
            "Best Score: 0.7914062500000001\n",
            "Accuracy: 0.7825\n",
            "Precision: 0.8076923076923077\n",
            "Recall: 0.8716216216216216\n",
            "F1 Score: 0.8384401114206128\n",
            "***************************************************\n",
            "Best Parameters: {'classifier': SVC(C=10), 'classifier__C': 10, 'classifier__kernel': 'rbf'}\n",
            "Best Score: 0.7434375\n",
            "Accuracy: 0.7325\n",
            "Precision: 0.7704626334519573\n",
            "Recall: 0.8359073359073359\n",
            "F1 Score: 0.8018518518518519\n",
            "***************************************************\n",
            "Best Model: Pipeline(steps=[('scaler', StandardScaler()),\n",
            "                ('classifier', RandomForestClassifier())])\n",
            "Best Score: 0.80203125\n"
          ]
        }
      ],
      "source": [
        "from sklearn.svm import SVC\n",
        "from sklearn.ensemble import RandomForestClassifier\n",
        "from sklearn.neural_network import MLPClassifier\n",
        "from sklearn.model_selection import GridSearchCV\n",
        "from sklearn.pipeline import Pipeline\n",
        "from sklearn.preprocessing import StandardScaler\n",
        "from sklearn.metrics import accuracy_score, precision_score, recall_score, f1_score\n",
        "import pandas as pd\n",
        "from sklearn.model_selection import train_test_split\n",
        "import warnings\n",
        "\n",
        "\n",
        "warnings.filterwarnings('ignore')\n",
        "\n",
        "\n",
        "# Load the dataset and split into features and target variable\n",
        "df = pd.read_csv('encoded_data.csv')\n",
        "x = df.drop('success_indicator', axis=1)\n",
        "y = df['success_indicator']\n",
        "x_train, x_test, y_train, y_test = train_test_split(x, y, test_size=0.2, random_state=77)\n",
        "\n",
        "\n",
        "pipeline = Pipeline([('scaler', StandardScaler()), ('classifier', None)])\n",
        "\n",
        "\n",
        "param_grids = [\n",
        "    {'classifier': [RandomForestClassifier()],\n",
        "     'classifier__n_estimators': [100, 200, 300]},\n",
        "    {'classifier': [MLPClassifier()],\n",
        "     'classifier__hidden_layer_sizes': [(100,), (50, 50), (25, 25, 25)],\n",
        "     'classifier__activation': ['relu', 'tanh'],\n",
        "     'classifier__solver': ['adam']},\n",
        "    {'classifier': [SVC()],\n",
        "     'classifier__C': [0.1, 1, 10],\n",
        "     'classifier__kernel': ['linear', 'rbf']},\n",
        "]\n",
        "\n",
        "\n",
        "best_model = None\n",
        "best_score = 0\n",
        "\n",
        "\n",
        "for entity in param_grids:\n",
        "    gs = GridSearchCV(pipeline, entity, cv=5, scoring='accuracy')\n",
        "    gs.fit(x_train, y_train)\n",
        "\n",
        "\n",
        "    y_pred = gs.predict(x_test)\n",
        "    accuracy = accuracy_score(y_test, y_pred)\n",
        "    precision = precision_score(y_test, y_pred)\n",
        "    recall = recall_score(y_test, y_pred)\n",
        "    f1 = f1_score(y_test, y_pred)\n",
        "\n",
        "\n",
        "    print(\"Best Parameters:\", gs.best_params_)\n",
        "    print(\"Best Score:\", gs.best_score_)\n",
        "    print(\"Accuracy:\", accuracy)\n",
        "    print(\"Precision:\", precision)\n",
        "    print(\"Recall:\", recall)\n",
        "    print(\"F1 Score:\", f1)\n",
        "    print(\"***************************************************\")\n",
        "\n",
        "\n",
        "    if gs.best_score_ > best_score:\n",
        "        best_model = gs.best_estimator_\n",
        "        best_score = gs.best_score_\n",
        "\n",
        "\n",
        "print(\"Best Model:\", best_model)\n",
        "print(\"Best Score:\", best_score)"
      ]
    },
    {
      "cell_type": "code",
      "source": [],
      "metadata": {
        "id": "53qA0PyAbA1N"
      },
      "execution_count": null,
      "outputs": []
    }
  ]
}